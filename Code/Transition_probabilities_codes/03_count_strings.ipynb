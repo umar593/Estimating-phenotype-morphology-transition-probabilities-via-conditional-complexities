{
 "cells": [
  {
   "cell_type": "code",
   "execution_count": 2,
   "id": "e349bcac",
   "metadata": {},
   "outputs": [
    {
     "name": "stdout",
     "output_type": "stream",
     "text": [
      "Done.\n"
     ]
    }
   ],
   "source": [
    "import numpy as np\n",
    "\n",
    "file1 = open(\"final_Binary_str374.txt\", \"r\")\n",
    "file2 = open(\"final_Binary_and_Count_str374.txt\",\"w\")\n",
    "file3 = open(\"final_Unique_Binary_str374.txt\",\"w\")\n",
    "file4 = open(\"final_Unique_Count_str374.txt\",\"w\")\n",
    "arr = file1.read()\n",
    "arrlist = arr.split(\"\\n\")\n",
    "#print(arrlist)\n",
    "#result = np.where(arrlist==\"\")[0]\n",
    "#arrlist = np.delete(arrlist,result)\n",
    "\n",
    "arrlist.pop()\n",
    "\n",
    "#print(arrlist)\n",
    "\n",
    "arrlist = np.array(arrlist) \n",
    "unique, counts = np.unique(arrlist, return_counts=True)\n",
    "\n",
    "w= dict(zip(unique, counts))\n",
    "#print(len(w))\n",
    "#print(w)\n",
    "prob_arr = []\n",
    "str_arr = []\n",
    "for kv in w.items():\n",
    "#    print( kv[0],'\\t',kv[1])\n",
    "    file2.write(str(kv[0]))\n",
    "    file3.write(str(kv[0]))\n",
    "#    str_arr.append(kv[0])\n",
    "    file2.write('\\t')\n",
    "    file2.write(str(kv[1]))\n",
    "    file4.write(str(kv[1]))\n",
    "#    prob_arr.append(kv[1])\n",
    "    file2.write(\"\\n\")\n",
    "    file3.write(\"\\n\")\n",
    "    file4.write(\"\\n\")\n",
    "file1.close()\n",
    "file2.close()\n",
    "file3.close()\n",
    "file4.close()\n",
    "#print(prob_arr)\n",
    "#print(\"-----------\")\n",
    "#print(str_arr)\n",
    "print(\"Done.\")\n"
   ]
  },
  {
   "cell_type": "code",
   "execution_count": null,
   "id": "9aeaff5e",
   "metadata": {},
   "outputs": [],
   "source": []
  },
  {
   "cell_type": "code",
   "execution_count": null,
   "id": "43373092",
   "metadata": {},
   "outputs": [],
   "source": []
  },
  {
   "cell_type": "code",
   "execution_count": null,
   "id": "1420557c",
   "metadata": {},
   "outputs": [],
   "source": []
  },
  {
   "cell_type": "code",
   "execution_count": null,
   "id": "101d9e5d",
   "metadata": {},
   "outputs": [],
   "source": []
  }
 ],
 "metadata": {
  "kernelspec": {
   "display_name": "Python 3",
   "language": "python",
   "name": "python3"
  },
  "language_info": {
   "codemirror_mode": {
    "name": "ipython",
    "version": 3
   },
   "file_extension": ".py",
   "mimetype": "text/x-python",
   "name": "python",
   "nbconvert_exporter": "python",
   "pygments_lexer": "ipython3",
   "version": "3.8.10"
  }
 },
 "nbformat": 4,
 "nbformat_minor": 5
}
