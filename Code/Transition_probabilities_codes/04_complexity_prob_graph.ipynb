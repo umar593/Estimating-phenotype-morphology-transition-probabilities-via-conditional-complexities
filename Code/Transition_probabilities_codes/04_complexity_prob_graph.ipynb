{
 "cells": [
  {
   "cell_type": "code",
   "execution_count": 2,
   "id": "f4ccab3e",
   "metadata": {},
   "outputs": [
    {
     "name": "stdout",
     "output_type": "stream",
     "text": [
      "15\n"
     ]
    },
    {
     "data": {
      "image/png": "[encoded data removed]",
      "text/plain": [
       "<Figure size 432x288 with 1 Axes>"
      ]
     },
     "metadata": {
      "needs_background": "light"
     },
     "output_type": "display_data"
    }
   ],
   "source": [
    "# For Umar\n",
    "import numpy as np\n",
    "#import LZ78Complexity\n",
    "import KC # used for Lempel-Ziv complexity estimation\n",
    "import matplotlib.pyplot as plt\n",
    "import math as mt\n",
    "\n",
    "file1 = open(\"Unique_Binary.txt\",\"r\")\n",
    "file2 = open(\"Unique_Count.txt\",\"r\")\n",
    "str_arr = file1.read()\n",
    "str_arrlist = str_arr.split(\"\\n\")\n",
    "str_arrlist.pop()\n",
    "\n",
    "prob_arr = file2.read()\n",
    "prob_arrlist = prob_arr.split(\"\\n\")\n",
    "prob_arrlist.pop()\n",
    "\n",
    "#print(str_arrlist)\n",
    "\n",
    "#print(prob_arrlist)\n",
    "\n",
    "# random SS\n",
    "#BinaryString = [\"01010\",\"0101000\",\"001011\",\"11010\"]\n",
    "#print(BinaryString)\n",
    "Z = []\n",
    "for s in str_arrlist:\n",
    "    k = KC.calc_KC(s)\n",
    "    Z.append(np.round(k,1))\n",
    "\n",
    "#print(Z)\n",
    "\n",
    "# sum of probabilities    \n",
    "nplist = np.array(prob_arrlist)\n",
    "#print(nplist)\n",
    "\n",
    "summm = np.sum(nplist,dtype=np.int32)\n",
    "print(summm)\n",
    "\n",
    "final_prob = []\n",
    "for i in range(0, len(nplist)):\n",
    "    q = int(nplist[i])/summm\n",
    "    qlog = mt.log10(q)\n",
    "    final_prob.append(qlog)\n",
    "\n",
    "#print(final_prob)\n",
    "\n",
    "plt.figure(1)\n",
    "ax = plt.gca()\n",
    "ax.grid(True)\n",
    "plt.plot(Z,final_prob, 'bo')\n",
    "plt.xlabel(\"Complexity K(x)\")\n",
    "plt.ylabel(\"Probability log10(P)\")\n",
    "plt.savefig('Complexity_probability.png')\n",
    "plt.show()\n"
   ]
  },
  {
   "cell_type": "code",
   "execution_count": 2,
   "id": "fb8fd2d7",
   "metadata": {},
   "outputs": [],
   "source": [
    "# From Chico adapted for Python 3.X\n",
    "# Code previously from Ben Frot\n",
    "# Originally from XXX paper\n",
    "import numpy as np\n",
    "\n",
    "def KC_LZ(string):\n",
    "    n=len(string)\n",
    "    s = '0'+string\n",
    "    c=1\n",
    "    l=1\n",
    "    i=0\n",
    "    k=1\n",
    "    k_max=1\n",
    "    stop=0\n",
    "\n",
    "    while stop==0:\n",
    "        if s[i+k] != s[l+k]:\n",
    "            if k>k_max:\n",
    "                k_max=k\n",
    "\n",
    "            i=i+1\n",
    "            \n",
    "            if i==l:\n",
    "                c=c+1\n",
    "                l=l+k_max\n",
    "\n",
    "                if l+1>n:\n",
    "                    stop=1\n",
    "\n",
    "                else:\n",
    "                    i=0\n",
    "                    k=1\n",
    "                    k_max=1\n",
    "            else:\n",
    "                k=1\n",
    "\n",
    "        else:\n",
    "            k=k+1\n",
    "\n",
    "            if l+k>n:\n",
    "                c=c+1\n",
    "                stop=1\n",
    "\n",
    "\n",
    "\n",
    "    # a la Lempel and Ziv (IEEE trans inf theory it-22, 75 (1976), \n",
    "    # h(n)=c(n)/b(n) where c(n) is the kolmogorov complexity\n",
    "    # and h(n) is a normalised measure of complexity.\n",
    "    complexity=c;\n",
    "\n",
    "    #b=n*1.0/np.log2(n)\n",
    "    #complexity=c/b;\n",
    "\n",
    "    return complexity\n",
    "\n",
    "\n",
    "def calc_KC(s):\n",
    "    L = len(s)\n",
    "    if s == '0'*L or s == '1'*L:\n",
    "        return np.log2(L)\n",
    "    else:\n",
    "        return np.log2(L)*(KC_LZ(s)+KC_LZ(s[::-1]))/2.0\n"
   ]
  },
  {
   "cell_type": "code",
   "execution_count": null,
   "id": "b1f8709a",
   "metadata": {},
   "outputs": [],
   "source": []
  }
 ],
 "metadata": {
  "kernelspec": {
   "display_name": "Python 3",
   "language": "python",
   "name": "python3"
  },
  "language_info": {
   "codemirror_mode": {
    "name": "ipython",
    "version": 3
   },
   "file_extension": ".py",
   "mimetype": "text/x-python",
   "name": "python",
   "nbconvert_exporter": "python",
   "pygments_lexer": "ipython3",
   "version": "3.8.10"
  }
 },
 "nbformat": 4,
 "nbformat_minor": 5
}
