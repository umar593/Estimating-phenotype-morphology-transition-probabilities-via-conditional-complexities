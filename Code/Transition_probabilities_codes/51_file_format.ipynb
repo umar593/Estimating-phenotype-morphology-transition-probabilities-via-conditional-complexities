{
 "cells": [
  {
   "cell_type": "code",
   "execution_count": 38,
   "id": "326fe2d9",
   "metadata": {},
   "outputs": [
    {
     "name": "stdout",
     "output_type": "stream",
     "text": [
      "Bing0o0o0o0o0o0o0\n"
     ]
    }
   ],
   "source": [
    "file = open('HP_output_data_files/output_HPn25.txt','w')\n",
    "with open(\"HP_designing/HPn25.txt\", 'r') as f:\n",
    "    lines = f.readlines()\n",
    "\n",
    "# Initialize variable to hold current sequence identifier\n",
    "curr_seq_id = None\n",
    "\n",
    "for line in lines:\n",
    "    # Strip whitespace from the line\n",
    "    line = line.strip()\n",
    "\n",
    "    # If line is a sequence identifier, update current sequence identifier\n",
    "    if line.isalpha():\n",
    "        curr_seq_id = line\n",
    "    # If line is not a sequence identifier, process the header and integer lines\n",
    "    else:\n",
    "        h, k = line.split(maxsplit=1)\n",
    "        k = int(k)\n",
    "        file.write(h + \"  \" + curr_seq_id + \" \" + str(k) + \"\\n\")\n",
    "        \n",
    "file.close()\n",
    "print(\"Bing0o0o0o0o0o0o0\")"
   ]
  },
  {
   "cell_type": "code",
   "execution_count": 39,
   "id": "22aa632b",
   "metadata": {},
   "outputs": [
    {
     "name": "stdout",
     "output_type": "stream",
     "text": [
      "Bing0o0o0o0o0o0o0\n"
     ]
    }
   ],
   "source": [
    "output_count = {}\n",
    "# Read input file and count occurrences of each output\n",
    "with open('HP_output_data_files/output_HPn25.txt', 'r') as f:\n",
    "    for line in f:\n",
    "        inputs, output, _ = line.strip().split()\n",
    "        if output not in output_count:\n",
    "            output_count[output] = 1\n",
    "        else:\n",
    "            output_count[output] += 1\n",
    "\n",
    "# Write output to file\n",
    "with open('HP_output_data_files/final_output_HPn25.txt', 'w') as f:\n",
    "    with open('HP_output_data_files/output_HPn25.txt', 'r') as g:\n",
    "        for line in g:\n",
    "            inputs, output, _ = line.strip().split()\n",
    "            count = output_count[output]\n",
    "            f.write(f\"{inputs} {output} {count}\\n\")\n",
    "print(\"Bing0o0o0o0o0o0o0\")"
   ]
  },
  {
   "cell_type": "code",
   "execution_count": null,
   "id": "27594f93",
   "metadata": {},
   "outputs": [],
   "source": []
  }
 ],
 "metadata": {
  "kernelspec": {
   "display_name": "Python 3",
   "language": "python",
   "name": "python3"
  },
  "language_info": {
   "codemirror_mode": {
    "name": "ipython",
    "version": 3
   },
   "file_extension": ".py",
   "mimetype": "text/x-python",
   "name": "python",
   "nbconvert_exporter": "python",
   "pygments_lexer": "ipython3",
   "version": "3.8.10"
  }
 },
 "nbformat": 4,
 "nbformat_minor": 5
}
