{
 "cells": [
  {
   "cell_type": "code",
   "execution_count": 7,
   "id": "b4bd681d",
   "metadata": {},
   "outputs": [
    {
     "name": "stdout",
     "output_type": "stream",
     "text": [
      "240000\n",
      "File Reading Done.\n",
      "{'0': 36946, '1': 163627, '10': 296, '11': 283, '12': 604, '13': 162, '15': 530, '16': 652, '17': 144, '18': 588, '19': 141, '2': 9517, '20': 129, '21': 28, '3': 14297, '4': 742, '5': 723, '6': 9333, '7': 600, '9': 658}\n",
      "{'0': 36946, '1': 163627, '10': 296, '11': 283, '12': 604, '13': 162, '15': 530, '16': 652, '17': 144, '18': 588, '19': 141, '2': 9517, '20': 129, '21': 28, '3': 14297, '4': 742, '5': 723, '6': 9333, '7': 600, '9': 658, '22': 0, '8': 0, '14': 0}\n",
      "{'0': 36946, '1': 163627, '2': 9517, '3': 14297, '4': 742, '5': 723, '6': 9333, '7': 600, '8': 0, '9': 658, '10': 296, '11': 283, '12': 604, '13': 162, '14': 0, '15': 530, '16': 652, '17': 144, '18': 588, '19': 141, '20': 129, '21': 28, '22': 0}\n",
      "Total sum is  240000\n",
      "Bing0o0oo0o0o0o0o0o0o0\n"
     ]
    }
   ],
   "source": [
    "import numpy as np\n",
    "from collections import OrderedDict\n",
    "import random as rm\n",
    "import time\n",
    "\n",
    "file_inp1 = open('data/reverse_output_1.txt',\"r\")\n",
    "file_out1 = open('data/prob_reverse_output_1.txt',\"w\")\n",
    "\n",
    "arr1 = file_inp1.read()\n",
    "arr_t1 = arr1.split(\"\\n\")\n",
    "arr_t1.pop()\n",
    "\n",
    "#print(arr_t1)\n",
    "print(len(arr_t1))\n",
    "print(\"File Reading Done.\")\n",
    "\n",
    "\n",
    "arrlist = np.array(arr_t1)\n",
    "unique, counts = np.unique(arrlist, return_counts=True)\n",
    "w = dict(zip(unique, counts))\n",
    "\n",
    "print(w)\n",
    "\n",
    "existing_w = set(w.keys())\n",
    "\n",
    "# Create a set of all keys that should be present (0 to 22)\n",
    "expected_w = set(map(str, range(23)))\n",
    "\n",
    "# Find the missing keys\n",
    "missing_w = expected_w - existing_w\n",
    "\n",
    "# Add the missing keys with a value of 0 to the original dictionary\n",
    "for key in missing_w:\n",
    "    w[key] = 0\n",
    "\n",
    "print(w)\n",
    "\n",
    "sorted_w = dict(sorted(w.items(), key=lambda x: int(x[0])))\n",
    "print(sorted_w)\n",
    "\n",
    "total_outputs = 0\n",
    "for kv in sorted_w.items():\n",
    "    total_outputs = total_outputs+kv[1]\n",
    "print(\"Total sum is \",total_outputs)\n",
    "\n",
    "for kv in sorted_w.items():\n",
    "    file_out1.write(str(kv[1]/total_outputs))\n",
    "    file_out1.write(\"\\n\")\n",
    "\n",
    "\n",
    "\n",
    "file_out1.close()\n",
    "\n",
    "print(\"Bing0o0oo0o0o0o0o0o0o0\")"
   ]
  },
  {
   "cell_type": "code",
   "execution_count": null,
   "id": "a78f74b7",
   "metadata": {},
   "outputs": [],
   "source": []
  }
 ],
 "metadata": {
  "kernelspec": {
   "display_name": "Python 3 (ipykernel)",
   "language": "python",
   "name": "python3"
  },
  "language_info": {
   "codemirror_mode": {
    "name": "ipython",
    "version": 3
   },
   "file_extension": ".py",
   "mimetype": "text/x-python",
   "name": "python",
   "nbconvert_exporter": "python",
   "pygments_lexer": "ipython3",
   "version": "3.10.6"
  }
 },
 "nbformat": 4,
 "nbformat_minor": 5
}
