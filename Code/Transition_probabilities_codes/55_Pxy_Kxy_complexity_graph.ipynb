{
 "cells": [
  {
   "cell_type": "code",
   "execution_count": 22,
   "id": "7c017266",
   "metadata": {},
   "outputs": [
    {
     "name": "stdout",
     "output_type": "stream",
     "text": [
      "URRDRDLDLDLULLURRRU\n"
     ]
    },
    {
     "data": {
      "image/png": "[encoded data removed]",
      "text/plain": [
       "<Figure size 432x288 with 1 Axes>"
      ]
     },
     "metadata": {
      "needs_background": "light"
     },
     "output_type": "display_data"
    }
   ],
   "source": [
    "# For Umar\n",
    "import numpy as np\n",
    "#import LZ78Complexity\n",
    "import KC # used for Lempel-Ziv complexity estimation\n",
    "import matplotlib.pyplot as plt\n",
    "import math as mt\n",
    "\n",
    "file1 = open(\"HP_output_data_files/HP_20_possible_new_unique_str_count_prob.txt\",\"r\")\n",
    "file2 = open(\"HP_output_data_files/HP_20_possible_new_unique_str.txt\",\"r\")\n",
    "file3 = open(\"HP_output_data_files/HP_20_possible_new_unique_str_prob.txt\",\"r\")\n",
    "\n",
    "\n",
    "str_size = 20\n",
    "\n",
    "str_arr = file1.read()\n",
    "BinaryString =str_arr[0:str_size-1] \n",
    "print(BinaryString)\n",
    "#print(len(BinaryString))\n",
    "\n",
    "str_arr1 = file2.read()\n",
    "str_arrlist = str_arr1.split(\"\\n\")\n",
    "str_arrlist.pop()\n",
    "\n",
    "prob_arr = file3.read()\n",
    "prob_arrlist = prob_arr.split(\"\\n\")\n",
    "prob_arrlist.pop()\n",
    "\n",
    "#print(BinaryString)\n",
    "#print(len(str_arrlist))\n",
    "#print(prob_arrlist)\n",
    "\n",
    "k = KC.calc_KC(BinaryString)\n",
    "k1 = round(k,1)\n",
    "#print(k1)\n",
    "\n",
    "str_arrlist_con= []\n",
    "for i in range(0,len(str_arrlist)):\n",
    "    w_temp = str_arrlist[i]\n",
    "    str_arrlist_con.append(BinaryString+w_temp)\n",
    "#print(str_arrlist_con)\n",
    "\n",
    "Z = []\n",
    "for s in str_arrlist_con:\n",
    "    k = KC.calc_KC(s)\n",
    "    Z.append(np.round(k,1))\n",
    "#print(Z)\n",
    "\n",
    "Z1 = Z-k1\n",
    "#print(Z1)\n",
    "\n",
    "upper_bound = []\n",
    "\n",
    "for i in range(0,len(Z1)):\n",
    "    temp = 1/pow(2,float(Z1[i]))\n",
    "    upper_bound.append(temp)\n",
    "\n",
    "\n",
    "\n",
    "# sum of probabilities    \n",
    "nplist = np.array(prob_arrlist)\n",
    "#print(nplist)\n",
    "\n",
    "final_prob = []\n",
    "for i in range(0, len(nplist)):\n",
    "    q = nplist[i]\n",
    "    qlog = mt.log10(float(q))\n",
    "    final_prob.append(qlog)\n",
    "\n",
    "#print(final_prob)\n",
    "\n",
    "plt.figure()\n",
    "#plt.plot(Z1, upper_bound)\n",
    "plt.scatter(Z1,final_prob)\n",
    "plt.title('conditional complexity vs Probability for x =URRDRDLDLDLULLURRRU')\n",
    "plt.ylabel(r'$\\log_{10} P(x \\rightarrow y)$',fontsize=18)\n",
    "plt.xlabel(r'$\\tilde{K}(y|x)$',fontsize=18)\n",
    "plt.rc('xtick',labelsize=15)\n",
    "plt.rc('ytick',labelsize=15)\n",
    "plt.tight_layout()\n",
    "plt.savefig('Conditional_Complexity_probability.jpg')\n",
    "plt.show()\n",
    "\n",
    "file1.close()\n",
    "file2.close()\n",
    "file3.close()\n"
   ]
  },
  {
   "cell_type": "code",
   "execution_count": null,
   "id": "30c745c2",
   "metadata": {},
   "outputs": [],
   "source": []
  },
  {
   "cell_type": "code",
   "execution_count": null,
   "id": "aa9d2b8b",
   "metadata": {},
   "outputs": [],
   "source": []
  }
 ],
 "metadata": {
  "kernelspec": {
   "display_name": "Python 3",
   "language": "python",
   "name": "python3"
  },
  "language_info": {
   "codemirror_mode": {
    "name": "ipython",
    "version": 3
   },
   "file_extension": ".py",
   "mimetype": "text/x-python",
   "name": "python",
   "nbconvert_exporter": "python",
   "pygments_lexer": "ipython3",
   "version": "3.8.10"
  }
 },
 "nbformat": 4,
 "nbformat_minor": 5
}
