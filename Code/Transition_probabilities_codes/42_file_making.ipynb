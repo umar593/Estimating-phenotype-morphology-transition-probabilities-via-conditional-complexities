{
 "cells": [
  {
   "cell_type": "code",
   "execution_count": 1,
   "id": "5db0db79",
   "metadata": {},
   "outputs": [
    {
     "name": "stdout",
     "output_type": "stream",
     "text": [
      "Bingooooooooo\n"
     ]
    }
   ],
   "source": [
    "import numpy as np\n",
    "from collections import defaultdict\n",
    "\n",
    "file1 = open(\"in_str.txt\", \"r\")\n",
    "file2 = open(\"out_str.txt\", \"r\")\n",
    "\n",
    "instr = file1.read()\n",
    "outstr = file2.read()\n",
    "\n",
    "in_str = instr.split(\"\\n\")\n",
    "out_str = outstr.split(\"\\n\")\n",
    "\n",
    "#print(in_str)\n",
    "#print(out_str)\n",
    "\n",
    "in_str.pop()\n",
    "out_str.pop()\n",
    "\n",
    "#print(in_str)\n",
    "#print(out_str)\n",
    "\n",
    "# Create a dictionary to store the mappings from B to A\n",
    "mapping = defaultdict(list)\n",
    "for a, b in zip(in_str, out_str):\n",
    "    mapping[b].append(a)\n",
    "\n",
    "# Find the unique elements of B\n",
    "unique_b = set(out_str)\n",
    "\n",
    "# Write the results to a file\n",
    "with open('in_out_count.txt', 'w') as f:\n",
    "    for b in unique_b:\n",
    "        a_list = mapping[b]\n",
    "        count = len(a_list)\n",
    "        unique_a = set(a_list)\n",
    "        for a in unique_a:\n",
    "            f.write(f'{a}\\t{b}\\t{count}\\n')\n",
    "\n",
    "file1.close()\n",
    "file2.close()\n",
    "\n",
    "print(\"Bingooooooooo\")\n"
   ]
  },
  {
   "cell_type": "code",
   "execution_count": null,
   "id": "6643061c",
   "metadata": {},
   "outputs": [],
   "source": []
  }
 ],
 "metadata": {
  "kernelspec": {
   "display_name": "Python 3",
   "language": "python",
   "name": "python3"
  },
  "language_info": {
   "codemirror_mode": {
    "name": "ipython",
    "version": 3
   },
   "file_extension": ".py",
   "mimetype": "text/x-python",
   "name": "python",
   "nbconvert_exporter": "python",
   "pygments_lexer": "ipython3",
   "version": "3.8.10"
  }
 },
 "nbformat": 4,
 "nbformat_minor": 5
}
