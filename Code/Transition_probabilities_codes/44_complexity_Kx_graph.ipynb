{
 "cells": [
  {
   "cell_type": "code",
   "execution_count": 4,
   "id": "0f1e9436",
   "metadata": {},
   "outputs": [
    {
     "name": "stdout",
     "output_type": "stream",
     "text": [
      "[1.6, 4.0, 4.0, 4.8]\n"
     ]
    },
    {
     "data": {
      "image/png": "[encoded data removed]",
      "text/plain": [
       "<Figure size 432x288 with 1 Axes>"
      ]
     },
     "metadata": {
      "needs_background": "light"
     },
     "output_type": "display_data"
    }
   ],
   "source": [
    "# For Umar\n",
    "import numpy as np\n",
    "#import LZ78Complexity\n",
    "import KC # used for Lempel-Ziv complexity estimation\n",
    "import matplotlib.pyplot as plt\n",
    "import math as mt\n",
    "\n",
    "file1 = open(\"unique_str.txt\",\"r\")\n",
    "file2 = open(\"unique_str_prob.txt\",\"r\")\n",
    "\n",
    "str_arr = file1.read()\n",
    "str_arrlist = str_arr.split(\"\\n\")\n",
    "str_arrlist.pop()\n",
    "\n",
    "prob_arr = file2.read()\n",
    "prob_arrlist = prob_arr.split(\"\\n\")\n",
    "prob_arrlist.pop()\n",
    "\n",
    "#print(str_arrlist)\n",
    "\n",
    "#print(prob_arrlist)\n",
    "\n",
    "# random SS\n",
    "#BinaryString = [\"01010\",\"0101000\",\"001011\",\"11010\"]\n",
    "#print(BinaryString)\n",
    "Z = []\n",
    "for s in str_arrlist:\n",
    "    k = KC.calc_KC(s)\n",
    "    Z.append(np.round(k,1))\n",
    "\n",
    "#print(Z)\n",
    "\n",
    "#upper_bound = []\n",
    "\n",
    "#for i in range(0,len(Z)):\n",
    "#    temp = 1/pow(2,float(Z[i]))\n",
    "#    upper_bound.append(temp)\n",
    "\n",
    "# sum of probabilities    \n",
    "nplist = np.array(prob_arrlist)\n",
    "#print(nplist)\n",
    "\n",
    "#maxxx = max(nplist)\n",
    "#minnn = min(nplist)\n",
    "\n",
    "#print(maxxx)\n",
    "#print(minnn)\n",
    "\n",
    "final_prob = []\n",
    "for i in range(0, len(nplist)):\n",
    "    q = nplist[i]\n",
    "#    print(\"The value for \",i, \"is\",q)\n",
    "    qlog = mt.log10(float(q))\n",
    "#    print(\"The log value for \",i, \"is\",qlog)\n",
    "    final_prob.append(qlog)\n",
    "\n",
    "nplist1 = np.array(final_prob)   \n",
    "    \n",
    "maxxx1 = np.max(nplist1)\n",
    "minnn1 = np.min(nplist1)\n",
    "\n",
    "#print(maxxx1)\n",
    "#print(minnn1)\n",
    "    \n",
    "#print(final_prob)\n",
    "\n",
    "plt.figure()\n",
    "#plt.plot(Z, upper_bound)\n",
    "plt.scatter(Z,final_prob)\n",
    "plt.title('Complexity vs Probability')\n",
    "plt.ylabel(r'$\\log_{10} P(x)$',fontsize=18)\n",
    "plt.xlabel(r'$\\tilde{K}(x)$',fontsize=18)\n",
    "plt.rc('xtick',labelsize=15)\n",
    "plt.rc('ytick',labelsize=15)\n",
    "plt.tight_layout()\n",
    "plt.savefig('Complexity_probability.png')\n",
    "plt.show()\n"
   ]
  },
  {
   "cell_type": "code",
   "execution_count": null,
   "id": "3540a89b",
   "metadata": {},
   "outputs": [],
   "source": []
  }
 ],
 "metadata": {
  "kernelspec": {
   "display_name": "Python 3",
   "language": "python",
   "name": "python3"
  },
  "language_info": {
   "codemirror_mode": {
    "name": "ipython",
    "version": 3
   },
   "file_extension": ".py",
   "mimetype": "text/x-python",
   "name": "python",
   "nbconvert_exporter": "python",
   "pygments_lexer": "ipython3",
   "version": "3.8.10"
  }
 },
 "nbformat": 4,
 "nbformat_minor": 5
}
