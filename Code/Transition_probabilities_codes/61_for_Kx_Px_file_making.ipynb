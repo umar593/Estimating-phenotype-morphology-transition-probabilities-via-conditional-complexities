{
 "cells": [
  {
   "cell_type": "code",
   "execution_count": 4,
   "id": "6d0455c3",
   "metadata": {},
   "outputs": [
    {
     "name": "stdout",
     "output_type": "stream",
     "text": [
      "23\n",
      "['UND', 'FLLL', 'FFLLFL', 'FFLFLFLF', 'FLFRLLFRLLFRLLFR', 'FLRFLLRFLLRFLLRF', 'FLFLLF', 'FLFLFLLR', 'FFFLFFLFFLFF', 'FFFLLFFL', 'FFLFLRLFLFLR', 'FFLRLFLFLRLF', 'FLRLLFLF', 'FLRLLFFLLR', 'FFFFLFFLFFFLFF', 'FFLFLLRL', 'FLFFLLFF', 'FLFFLLRLLR', 'FFLFLLRL', 'FFFLLRLLRL', 'FLRLLRLLFF', 'FLRLLRLLRLLR', 'FFLRLFLRLFLRLFLR']\n",
      "['000', '00101010', '000010100010', '0000100010001000', '00100001101000011010000110100001', '00100100101001001010010010100100', '001000101000', '0010001000101001', '000000100000100000100000', '0000001010000010', '000010001001100010001001', '000010011000100010011000', '0010011010001000', '00100110100000101001', '0000000010000010000000100000', '0000100010100110', '0010000010100000', '00100000101001101001', '0000100010100110', '00000010100110100110', '00100110100110100000', '001001101001101001101001', '00001001100010011000100110001001']\n",
      "Total sum is  16777216\n",
      "Bing0o0o0o0o0o0o0\n"
     ]
    }
   ],
   "source": [
    "import numpy as np\n",
    "from collections import OrderedDict\n",
    "import random as rm\n",
    "import operator\n",
    "#from ttictoc import tic,toc\n",
    "#t1 = tic()\n",
    "\n",
    "file_inp1  = open('data/coded_alphabets',\"r\")\n",
    "file_inp2 = open('data/s_28_list.txt',\"r\")\n",
    "\n",
    "#file1 = open(\"HP_output_data_files/HPn10_unique_str_count_prob.txt\",\"w\")\n",
    "file2 = open(\"data/unique_binary_str.txt\",\"w\")\n",
    "file3 = open(\"data/unique_str_prob.txt\",\"w\")\n",
    "\n",
    "arr1 = file_inp1.read()\n",
    "arr_t1 = arr1.split(\"\\n\")\n",
    "arr_t1.pop()\n",
    "\n",
    "print(len(arr_t1))\n",
    "print(arr_t1)\n",
    "\n",
    "arr2 = file_inp2.read()\n",
    "arr_t2 = arr2.split(\"\\n\")\n",
    "arr_t2.pop()\n",
    "\n",
    "#print(len(arr_t2))\n",
    "\n",
    "mappings = {\"F\": \"00\", \"L\": \"10\", \"R\": \"01\",\"U\": \"0\",\"N\": \"0\",\"D\": \"0\"}\n",
    "\n",
    "def strs_conversion(strings):\n",
    "    converted_strs = []\n",
    "    for string in strings:\n",
    "        binary_string = \"\"\n",
    "        for char in string:\n",
    "            binary_string += mappings[char]\n",
    "        converted_strs.append(binary_string)\n",
    "    return converted_strs\n",
    "\n",
    "converted_strs = strs_conversion(arr_t1)\n",
    "\n",
    "print(converted_strings)\n",
    "\n",
    "for string in converted_strs:\n",
    "        file2.write(string + \"\\n\")\n",
    "\n",
    "\n",
    "\n",
    "\n",
    "\n",
    "arrlist = np.array(arr_t2)\n",
    "unique, counts = np.unique(arrlist, return_counts=True)\n",
    "w = dict(zip(unique, counts))\n",
    "\n",
    "#print(w)\n",
    "\n",
    "sorted_w = dict(sorted(w.items(), key=lambda x: int(x[0])))\n",
    "#print(sorted_w)\n",
    "\n",
    "total_outputs = 0\n",
    "for kv in sorted_w.items():\n",
    "    total_outputs = total_outputs+kv[1]\n",
    "print(\"Total sum is \",total_outputs)\n",
    "\n",
    "for kv in sorted_w.items():\n",
    "    file3.write(str(kv[1]/total_outputs))\n",
    "    file3.write(\"\\n\")\n",
    "\n",
    "\n",
    "file_inp1.close()\n",
    "file_inp2.close()\n",
    "#file1.close()\n",
    "file2.close()\n",
    "file3.close()\n",
    "\n",
    "print(\"Bing0o0o0o0o0o0o0\")"
   ]
  },
  {
   "cell_type": "code",
   "execution_count": null,
   "id": "9b057477",
   "metadata": {},
   "outputs": [],
   "source": []
  }
 ],
 "metadata": {
  "kernelspec": {
   "display_name": "Python 3 (ipykernel)",
   "language": "python",
   "name": "python3"
  },
  "language_info": {
   "codemirror_mode": {
    "name": "ipython",
    "version": 3
   },
   "file_extension": ".py",
   "mimetype": "text/x-python",
   "name": "python",
   "nbconvert_exporter": "python",
   "pygments_lexer": "ipython3",
   "version": "3.10.6"
  }
 },
 "nbformat": 4,
 "nbformat_minor": 5
}
