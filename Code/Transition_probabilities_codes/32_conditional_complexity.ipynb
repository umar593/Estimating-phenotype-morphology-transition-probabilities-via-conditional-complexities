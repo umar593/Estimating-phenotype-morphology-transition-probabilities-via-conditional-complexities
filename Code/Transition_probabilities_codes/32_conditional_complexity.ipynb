{
 "cells": [
  {
   "cell_type": "code",
   "execution_count": 7,
   "id": "f4ccab3e",
   "metadata": {},
   "outputs": [
    {
     "name": "stdout",
     "output_type": "stream",
     "text": [
      "1111111101111111110000000000011111111100000000000111111111000000000001000000000001111111010000000000\n",
      "56.5\n",
      "[56.6, 99.3, 88.3, 110.4, 103.0, 106.7, 99.3, 103.2]\n",
      "[ 0.1 42.8 31.8 53.9 46.5 50.2 42.8 46.7]\n"
     ]
    },
    {
     "data": {
      "image/png": "[encoded data removed]",
      "text/plain": [
       "<Figure size 432x288 with 1 Axes>"
      ]
     },
     "metadata": {
      "needs_background": "light"
     },
     "output_type": "display_data"
    }
   ],
   "source": [
    "# For Umar\n",
    "import numpy as np\n",
    "#import LZ78Complexity\n",
    "import KC # used for Lempel-Ziv complexity estimation\n",
    "import matplotlib.pyplot as plt\n",
    "import math as mt\n",
    "\n",
    "file1 = open(\"Mapped_Input_string.txt\",\"r\")\n",
    "file2 = open(\"Mapped_Output_string.txt\",\"r\")\n",
    "file3 = open(\"Mapped_Output_prob_string.txt\",\"r\")\n",
    "\n",
    "str_arr = file1.read()\n",
    "BinaryString = str(str_arr)\n",
    "\n",
    "str_arr1 = file2.read()\n",
    "str_arrlist = str_arr1.split(\"\\n\")\n",
    "str_arrlist.pop()\n",
    "\n",
    "prob_arr = file3.read()\n",
    "prob_arrlist = prob_arr.split(\"\\n\")\n",
    "prob_arrlist.pop()\n",
    "\n",
    "print(BinaryString)\n",
    "#print(str_arrlist)\n",
    "#print(prob_arrlist)\n",
    "\n",
    "k = KC.calc_KC(BinaryString)\n",
    "k1 = round(k,1)\n",
    "print(k1)\n",
    "\n",
    "str_arrlist_con= []\n",
    "for i in range(0,len(str_arrlist)):\n",
    "    w_temp = str_arrlist[i]\n",
    "    str_arrlist_con.append(BinaryString+w_temp)\n",
    "#print(str_arrlist_con)\n",
    "\n",
    "\n",
    "Z = []\n",
    "for s in str_arrlist_con:\n",
    "    k = KC.calc_KC(s)\n",
    "    Z.append(np.round(k,1))\n",
    "print(Z)\n",
    "\n",
    "Z1 = Z-k1\n",
    "print(Z1)\n",
    "\n",
    "upper_bound = []\n",
    "\n",
    "for i in range(0,len(Z1)):\n",
    "    temp = 1/pow(2,float(Z1[i]))\n",
    "    upper_bound.append(temp)\n",
    "\n",
    "# sum of probabilities    \n",
    "nplist = np.array(prob_arrlist)\n",
    "#print(nplist)\n",
    "\n",
    "final_prob = []\n",
    "for i in range(0, len(nplist)):\n",
    "    q = nplist[i]\n",
    "    qlog = mt.log10(float(q))\n",
    "    final_prob.append(qlog)\n",
    "\n",
    "#print(final_prob)\n",
    "\n",
    "plt.figure()\n",
    "#plt.plot(Z1, upper_bound)\n",
    "plt.scatter(Z1,final_prob)\n",
    "plt.title('conditional complexity vs Probability')\n",
    "plt.ylabel(r'$\\log_{10} P(x \\rightarrow y)$',fontsize=18)\n",
    "plt.xlabel(r'$\\tilde{K}(y)$',fontsize=18)\n",
    "plt.rc('xtick',labelsize=15)\n",
    "plt.rc('ytick',labelsize=15)\n",
    "plt.tight_layout()\n",
    "plt.savefig('Conditional_Complexity_probability.png')\n",
    "plt.show()\n",
    "\n",
    "file1.close()\n",
    "file2.close()\n",
    "file3.close()"
   ]
  },
  {
   "cell_type": "code",
   "execution_count": 2,
   "id": "fb8fd2d7",
   "metadata": {},
   "outputs": [],
   "source": [
    "# From Chico adapted for Python 3.X\n",
    "# Code previously from Ben Frot\n",
    "# Originally from XXX paper\n",
    "import numpy as np\n",
    "\n",
    "def KC_LZ(string):\n",
    "    n=len(string)\n",
    "    s = '0'+string\n",
    "    c=1\n",
    "    l=1\n",
    "    i=0\n",
    "    k=1\n",
    "    k_max=1\n",
    "    stop=0\n",
    "\n",
    "    while stop==0:\n",
    "        if s[i+k] != s[l+k]:\n",
    "            if k>k_max:\n",
    "                k_max=k\n",
    "\n",
    "            i=i+1\n",
    "            \n",
    "            if i==l:\n",
    "                c=c+1\n",
    "                l=l+k_max\n",
    "\n",
    "                if l+1>n:\n",
    "                    stop=1\n",
    "\n",
    "                else:\n",
    "                    i=0\n",
    "                    k=1\n",
    "                    k_max=1\n",
    "            else:\n",
    "                k=1\n",
    "\n",
    "        else:\n",
    "            k=k+1\n",
    "\n",
    "            if l+k>n:\n",
    "                c=c+1\n",
    "                stop=1\n",
    "\n",
    "\n",
    "\n",
    "    # a la Lempel and Ziv (IEEE trans inf theory it-22, 75 (1976), \n",
    "    # h(n)=c(n)/b(n) where c(n) is the kolmogorov complexity\n",
    "    # and h(n) is a normalised measure of complexity.\n",
    "    complexity=c;\n",
    "\n",
    "    #b=n*1.0/np.log2(n)\n",
    "    #complexity=c/b;\n",
    "\n",
    "    return complexity\n",
    "\n",
    "\n",
    "def calc_KC(s):\n",
    "    L = len(s)\n",
    "    if s == '0'*L or s == '1'*L:\n",
    "        return np.log2(L)\n",
    "    else:\n",
    "        return np.log2(L)*(KC_LZ(s)+KC_LZ(s[::-1]))/2.0\n"
   ]
  },
  {
   "cell_type": "code",
   "execution_count": 19,
   "id": "b1f8709a",
   "metadata": {},
   "outputs": [
    {
     "name": "stdout",
     "output_type": "stream",
     "text": [
      "[-4 -3 -2]\n"
     ]
    }
   ],
   "source": [
    "import numpy\n",
    "x = numpy.array([5, 6, 7])\n",
    "y = 9\n",
    "\n",
    "z = x-y\n",
    "\n",
    "print(z)"
   ]
  },
  {
   "cell_type": "code",
   "execution_count": null,
   "id": "ed6881dd",
   "metadata": {},
   "outputs": [],
   "source": []
  }
 ],
 "metadata": {
  "kernelspec": {
   "display_name": "Python 3",
   "language": "python",
   "name": "python3"
  },
  "language_info": {
   "codemirror_mode": {
    "name": "ipython",
    "version": 3
   },
   "file_extension": ".py",
   "mimetype": "text/x-python",
   "name": "python",
   "nbconvert_exporter": "python",
   "pygments_lexer": "ipython3",
   "version": "3.8.10"
  }
 },
 "nbformat": 4,
 "nbformat_minor": 5
}
