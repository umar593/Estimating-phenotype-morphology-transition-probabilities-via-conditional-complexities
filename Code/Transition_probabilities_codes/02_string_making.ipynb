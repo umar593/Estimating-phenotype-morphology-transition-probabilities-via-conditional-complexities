{
 "cells": [
  {
   "cell_type": "code",
   "execution_count": 3,
   "id": "b9b81aa2",
   "metadata": {},
   "outputs": [
    {
     "name": "stdout",
     "output_type": "stream",
     "text": [
      "Done.\n"
     ]
    }
   ],
   "source": [
    "import numpy as np\n",
    "#file opening for writing the binary strings\n",
    "file1 = open(\"final_Binary_str374.txt\", \"w\")\n",
    "# Reading the file.\n",
    "filename='solution_str374.txt'\n",
    "fn = open(filename,\"r\")\n",
    "arr = fn.read()\n",
    "arrlist = arr.split(\"\\n\")\n",
    "\n",
    "#print(arrlist)\n",
    "\n",
    "arrlist.pop()\n",
    "#print(arrlist)\n",
    "#print(\"---------------------\")\n",
    "#print(arrlist)\n",
    "#result = np.where(arrlist==\"\")[0]\n",
    "#arrlist = np.delete(arrlist,result)\n",
    "\n",
    "# converting each number into binary digits.\n",
    "def sol_str(q):\n",
    "#    print(len(q))\n",
    "#    bin_str=np.zeros(len(q))\n",
    "    bin_str = []\n",
    "#    print(bin_str)\n",
    "#    print(q)\n",
    "    xp = 0\n",
    "    bin_str.append(0)\n",
    "    file1.write(str(0))\n",
    "    for j in range(1,len(q)):\n",
    "        \n",
    "        if q[j] <= q[j-1]:\n",
    "            bin_str.append(0)\n",
    "            file1.write(str(0))\n",
    "        else:\n",
    "            bin_str.append(1)\n",
    "            file1.write(str(1))\n",
    "            \n",
    "#    print(bin_str)\n",
    "    file1.write(\"\\n\")\n",
    "\n",
    "    return bin_str\n",
    "\n",
    "for i in range(0,len(arrlist)):\n",
    "    if i%19 == 0:\n",
    "        counter = 0\n",
    "        q = np.zeros(19)\n",
    "        q[counter] = arrlist[i]\n",
    "    if (i%19 != 0):\n",
    "        q[counter] = arrlist[i]\n",
    "    counter = counter + 1\n",
    "\n",
    "    if (i !=0 and (i+1)%19 == 0):\n",
    "#        print(\"iteration I am entering  is\", i)\n",
    "        m = sol_str(q)\n",
    "print('Done.')\n",
    "file1.close()"
   ]
  },
  {
   "cell_type": "code",
   "execution_count": null,
   "id": "bf45c131",
   "metadata": {},
   "outputs": [],
   "source": []
  },
  {
   "cell_type": "code",
   "execution_count": null,
   "id": "62cee728",
   "metadata": {},
   "outputs": [],
   "source": []
  }
 ],
 "metadata": {
  "kernelspec": {
   "display_name": "Python 3",
   "language": "python",
   "name": "python3"
  },
  "language_info": {
   "codemirror_mode": {
    "name": "ipython",
    "version": 3
   },
   "file_extension": ".py",
   "mimetype": "text/x-python",
   "name": "python",
   "nbconvert_exporter": "python",
   "pygments_lexer": "ipython3",
   "version": "3.8.10"
  }
 },
 "nbformat": 4,
 "nbformat_minor": 5
}
